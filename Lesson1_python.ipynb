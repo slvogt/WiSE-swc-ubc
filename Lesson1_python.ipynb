{
 "metadata": {
  "name": "",
  "signature": "sha256:e389889bdc04643d73372f2bfe637e2dcdce20610b84e94eed9453f3da884f23"
 },
 "nbformat": 3,
 "nbformat_minor": 0,
 "worksheets": [
  {
   "cells": [
    {
     "cell_type": "code",
     "collapsed": false,
     "input": [
      "import numpy as np\n"
     ],
     "language": "python",
     "metadata": {},
     "outputs": [],
     "prompt_number": 1
    },
    {
     "cell_type": "code",
     "collapsed": false,
     "input": [
      "np.loadtxt(fname = \"inflammation-01.csv\", delimiter = \",\")"
     ],
     "language": "python",
     "metadata": {},
     "outputs": [
      {
       "metadata": {},
       "output_type": "pyout",
       "prompt_number": 2,
       "text": [
        "array([[ 0.,  0.,  1., ...,  3.,  0.,  0.],\n",
        "       [ 0.,  1.,  2., ...,  1.,  0.,  1.],\n",
        "       [ 0.,  1.,  1., ...,  2.,  1.,  1.],\n",
        "       ..., \n",
        "       [ 0.,  1.,  1., ...,  1.,  1.,  1.],\n",
        "       [ 0.,  0.,  0., ...,  0.,  2.,  0.],\n",
        "       [ 0.,  0.,  1., ...,  1.,  1.,  0.]])"
       ]
      }
     ],
     "prompt_number": 2
    },
    {
     "cell_type": "code",
     "collapsed": false,
     "input": [
      "weight_kg = 57.5"
     ],
     "language": "python",
     "metadata": {},
     "outputs": [],
     "prompt_number": 3
    },
    {
     "cell_type": "code",
     "collapsed": false,
     "input": [
      "print weight_kg"
     ],
     "language": "python",
     "metadata": {},
     "outputs": [
      {
       "output_type": "stream",
       "stream": "stdout",
       "text": [
        "57.5\n"
       ]
      }
     ],
     "prompt_number": 4
    },
    {
     "cell_type": "code",
     "collapsed": false,
     "input": [
      "weight_lb = 2.2 * weight_kg"
     ],
     "language": "python",
     "metadata": {},
     "outputs": [],
     "prompt_number": 5
    },
    {
     "cell_type": "code",
     "collapsed": false,
     "input": [
      "print \"weight in kg\", weight_kg, \"and weight in pounds\", weight_lb"
     ],
     "language": "python",
     "metadata": {},
     "outputs": [
      {
       "output_type": "stream",
       "stream": "stdout",
       "text": [
        "weight in kg 57.5 and weight in pounds 126.5\n"
       ]
      }
     ],
     "prompt_number": 6
    },
    {
     "cell_type": "code",
     "collapsed": false,
     "input": [
      "first, second = \"Grace\", \"Hopper\""
     ],
     "language": "python",
     "metadata": {},
     "outputs": [],
     "prompt_number": 7
    },
    {
     "cell_type": "code",
     "collapsed": false,
     "input": [
      "print first"
     ],
     "language": "python",
     "metadata": {},
     "outputs": [
      {
       "output_type": "stream",
       "stream": "stdout",
       "text": [
        "Grace\n"
       ]
      }
     ],
     "prompt_number": 8
    },
    {
     "cell_type": "code",
     "collapsed": false,
     "input": [
      "third, fourth = second, first"
     ],
     "language": "python",
     "metadata": {},
     "outputs": [],
     "prompt_number": 9
    },
    {
     "cell_type": "code",
     "collapsed": false,
     "input": [
      "print third, fourth"
     ],
     "language": "python",
     "metadata": {},
     "outputs": [
      {
       "output_type": "stream",
       "stream": "stdout",
       "text": [
        "Hopper Grace\n"
       ]
      }
     ],
     "prompt_number": 10
    },
    {
     "cell_type": "code",
     "collapsed": false,
     "input": [
      "data = np.loadtxt(fname = \"inflammation-01.csv\", delimiter = \",\")"
     ],
     "language": "python",
     "metadata": {},
     "outputs": [],
     "prompt_number": 11
    },
    {
     "cell_type": "code",
     "collapsed": false,
     "input": [
      "print data"
     ],
     "language": "python",
     "metadata": {},
     "outputs": [
      {
       "output_type": "stream",
       "stream": "stdout",
       "text": [
        "[[ 0.  0.  1. ...,  3.  0.  0.]\n",
        " [ 0.  1.  2. ...,  1.  0.  1.]\n",
        " [ 0.  1.  1. ...,  2.  1.  1.]\n",
        " ..., \n",
        " [ 0.  1.  1. ...,  1.  1.  1.]\n",
        " [ 0.  0.  0. ...,  0.  2.  0.]\n",
        " [ 0.  0.  1. ...,  1.  1.  0.]]\n"
       ]
      }
     ],
     "prompt_number": 12
    },
    {
     "cell_type": "code",
     "collapsed": false,
     "input": [
      "print type(data)"
     ],
     "language": "python",
     "metadata": {},
     "outputs": [
      {
       "output_type": "stream",
       "stream": "stdout",
       "text": [
        "<type 'numpy.ndarray'>\n"
       ]
      }
     ],
     "prompt_number": 13
    },
    {
     "cell_type": "code",
     "collapsed": false,
     "input": [
      "print data.shape"
     ],
     "language": "python",
     "metadata": {},
     "outputs": [
      {
       "output_type": "stream",
       "stream": "stdout",
       "text": [
        "(60, 40)\n"
       ]
      }
     ],
     "prompt_number": 14
    },
    {
     "cell_type": "code",
     "collapsed": false,
     "input": [
      "print \"first value in data\", data[0, 0]"
     ],
     "language": "python",
     "metadata": {},
     "outputs": [
      {
       "output_type": "stream",
       "stream": "stdout",
       "text": [
        "first value in data 0.0\n"
       ]
      }
     ],
     "prompt_number": 15
    },
    {
     "cell_type": "code",
     "collapsed": false,
     "input": [
      "print \"mid value in data\", data[30, 20]"
     ],
     "language": "python",
     "metadata": {},
     "outputs": [
      {
       "output_type": "stream",
       "stream": "stdout",
       "text": [
        "mid value in data 13.0\n"
       ]
      }
     ],
     "prompt_number": 16
    },
    {
     "cell_type": "code",
     "collapsed": false,
     "input": [
      "print data[0:4, 0:10]"
     ],
     "language": "python",
     "metadata": {},
     "outputs": [
      {
       "output_type": "stream",
       "stream": "stdout",
       "text": [
        "[[ 0.  0.  1.  3.  1.  2.  4.  7.  8.  3.]\n",
        " [ 0.  1.  2.  1.  2.  1.  3.  2.  2.  6.]\n",
        " [ 0.  1.  1.  3.  3.  2.  6.  2.  5.  9.]\n",
        " [ 0.  0.  2.  0.  4.  2.  2.  1.  6.  7.]]\n"
       ]
      }
     ],
     "prompt_number": 17
    },
    {
     "cell_type": "code",
     "collapsed": false,
     "input": [
      "print data[5:10, 0:10]"
     ],
     "language": "python",
     "metadata": {},
     "outputs": [
      {
       "output_type": "stream",
       "stream": "stdout",
       "text": [
        "[[ 0.  0.  1.  2.  2.  4.  2.  1.  6.  4.]\n",
        " [ 0.  0.  2.  2.  4.  2.  2.  5.  5.  8.]\n",
        " [ 0.  0.  1.  2.  3.  1.  2.  3.  5.  3.]\n",
        " [ 0.  0.  0.  3.  1.  5.  6.  5.  5.  8.]\n",
        " [ 0.  1.  1.  2.  1.  3.  5.  3.  5.  8.]]\n"
       ]
      }
     ],
     "prompt_number": 18
    },
    {
     "cell_type": "code",
     "collapsed": false,
     "input": [
      "print data[:3, 36:]"
     ],
     "language": "python",
     "metadata": {},
     "outputs": [
      {
       "output_type": "stream",
       "stream": "stdout",
       "text": [
        "[[ 2.  3.  0.  0.]\n",
        " [ 1.  1.  0.  1.]\n",
        " [ 2.  2.  1.  1.]]\n"
       ]
      }
     ],
     "prompt_number": 19
    },
    {
     "cell_type": "code",
     "collapsed": false,
     "input": [
      "doubledata = data * 2.0\n",
      "print \"original\"\n",
      "print data[:3, 36:]\n",
      "print \"doubledata\"\n",
      "print doubledata[:3, 36:]"
     ],
     "language": "python",
     "metadata": {},
     "outputs": [
      {
       "output_type": "stream",
       "stream": "stdout",
       "text": [
        "original\n",
        "[[ 2.  3.  0.  0.]\n",
        " [ 1.  1.  0.  1.]\n",
        " [ 2.  2.  1.  1.]]\n",
        "doubledata\n",
        "[[ 4.  6.  0.  0.]\n",
        " [ 2.  2.  0.  2.]\n",
        " [ 4.  4.  2.  2.]]\n"
       ]
      }
     ],
     "prompt_number": 20
    },
    {
     "cell_type": "code",
     "collapsed": false,
     "input": [
      "tripledata = data + doubledata\n",
      "print \"tripledata\"\n",
      "print tripledata[:3, 36:]"
     ],
     "language": "python",
     "metadata": {},
     "outputs": [
      {
       "output_type": "stream",
       "stream": "stdout",
       "text": [
        "tripledata\n",
        "[[ 6.  9.  0.  0.]\n",
        " [ 3.  3.  0.  3.]\n",
        " [ 6.  6.  3.  3.]]\n"
       ]
      }
     ],
     "prompt_number": 22
    },
    {
     "cell_type": "code",
     "collapsed": false,
     "input": [
      "print data.mean()"
     ],
     "language": "python",
     "metadata": {},
     "outputs": [
      {
       "output_type": "stream",
       "stream": "stdout",
       "text": [
        "6.14875\n"
       ]
      }
     ],
     "prompt_number": 23
    },
    {
     "cell_type": "code",
     "collapsed": false,
     "input": [
      "print \"max inflammation\", data.max()"
     ],
     "language": "python",
     "metadata": {},
     "outputs": [
      {
       "output_type": "stream",
       "stream": "stdout",
       "text": [
        "max inflammation 20.0\n"
       ]
      }
     ],
     "prompt_number": 24
    },
    {
     "cell_type": "code",
     "collapsed": false,
     "input": [
      "patient_0 = data[0,:]\n",
      "print \"max inflammation for patient 0\", patient_0.max()"
     ],
     "language": "python",
     "metadata": {},
     "outputs": [
      {
       "output_type": "stream",
       "stream": "stdout",
       "text": [
        "max inflammation for patient 0 18.0\n"
       ]
      }
     ],
     "prompt_number": 26
    },
    {
     "cell_type": "code",
     "collapsed": false,
     "input": [
      "patient_0b = data[0,]"
     ],
     "language": "python",
     "metadata": {},
     "outputs": [],
     "prompt_number": 27
    },
    {
     "cell_type": "code",
     "collapsed": false,
     "input": [
      "print patient_0\n",
      "print patient_0b"
     ],
     "language": "python",
     "metadata": {},
     "outputs": [
      {
       "output_type": "stream",
       "stream": "stdout",
       "text": [
        "[  0.   0.   1.   3.   1.   2.   4.   7.   8.   3.   3.   3.  10.   5.   7.\n",
        "   4.   7.   7.  12.  18.   6.  13.  11.  11.   7.   7.   4.   6.   8.   8.\n",
        "   4.   4.   5.   7.   3.   4.   2.   3.   0.   0.]\n",
        "[  0.   0.   1.   3.   1.   2.   4.   7.   8.   3.   3.   3.  10.   5.   7.\n",
        "   4.   7.   7.  12.  18.   6.  13.  11.  11.   7.   7.   4.   6.   8.   8.\n",
        "   4.   4.   5.   7.   3.   4.   2.   3.   0.   0.]\n"
       ]
      }
     ],
     "prompt_number": 28
    },
    {
     "cell_type": "code",
     "collapsed": false,
     "input": [
      "print data.mean(axis = 0)"
     ],
     "language": "python",
     "metadata": {},
     "outputs": [
      {
       "output_type": "stream",
       "stream": "stdout",
       "text": [
        "[  0.           0.45         1.11666667   1.75         2.43333333   3.15\n",
        "   3.8          3.88333333   5.23333333   5.51666667   5.95         5.9\n",
        "   8.35         7.73333333   8.36666667   9.5          9.58333333\n",
        "  10.63333333  11.56666667  12.35        13.25        11.96666667\n",
        "  11.03333333  10.16666667  10.           8.66666667   9.15         7.25\n",
        "   7.33333333   6.58333333   6.06666667   5.95         5.11666667   3.6\n",
        "   3.3          3.56666667   2.48333333   1.5          1.13333333\n",
        "   0.56666667]\n"
       ]
      }
     ],
     "prompt_number": 29
    },
    {
     "cell_type": "code",
     "collapsed": false,
     "input": [
      "print data.mean(axis = 0).shape"
     ],
     "language": "python",
     "metadata": {},
     "outputs": [
      {
       "output_type": "stream",
       "stream": "stdout",
       "text": [
        "(40,)\n"
       ]
      }
     ],
     "prompt_number": 30
    },
    {
     "cell_type": "code",
     "collapsed": false,
     "input": [
      "element = \"oxygen\""
     ],
     "language": "python",
     "metadata": {},
     "outputs": [],
     "prompt_number": 31
    },
    {
     "cell_type": "code",
     "collapsed": false,
     "input": [
      "print element[1:-1]"
     ],
     "language": "python",
     "metadata": {},
     "outputs": [
      {
       "output_type": "stream",
       "stream": "stdout",
       "text": [
        "xyge\n"
       ]
      }
     ],
     "prompt_number": 32
    },
    {
     "cell_type": "code",
     "collapsed": false,
     "input": [
      "print element[-1]"
     ],
     "language": "python",
     "metadata": {},
     "outputs": [
      {
       "output_type": "stream",
       "stream": "stdout",
       "text": [
        "n\n"
       ]
      }
     ],
     "prompt_number": 33
    },
    {
     "cell_type": "code",
     "collapsed": false,
     "input": [
      "print element[-2]"
     ],
     "language": "python",
     "metadata": {},
     "outputs": [
      {
       "output_type": "stream",
       "stream": "stdout",
       "text": [
        "e\n"
       ]
      }
     ],
     "prompt_number": 34
    },
    {
     "cell_type": "code",
     "collapsed": false,
     "input": [
      "print element[:4]"
     ],
     "language": "python",
     "metadata": {},
     "outputs": [
      {
       "output_type": "stream",
       "stream": "stdout",
       "text": [
        "oxyg\n"
       ]
      }
     ],
     "prompt_number": 35
    },
    {
     "cell_type": "code",
     "collapsed": false,
     "input": [
      "print element[4:]"
     ],
     "language": "python",
     "metadata": {},
     "outputs": [
      {
       "output_type": "stream",
       "stream": "stdout",
       "text": [
        "en\n"
       ]
      }
     ],
     "prompt_number": 36
    },
    {
     "cell_type": "code",
     "collapsed": false,
     "input": [
      "print element[:]"
     ],
     "language": "python",
     "metadata": {},
     "outputs": [
      {
       "output_type": "stream",
       "stream": "stdout",
       "text": [
        "oxygen\n"
       ]
      }
     ],
     "prompt_number": 37
    },
    {
     "cell_type": "code",
     "collapsed": false,
     "input": [
      "print element[-0]"
     ],
     "language": "python",
     "metadata": {},
     "outputs": [
      {
       "output_type": "stream",
       "stream": "stdout",
       "text": [
        "o\n"
       ]
      }
     ],
     "prompt_number": 38
    },
    {
     "cell_type": "code",
     "collapsed": false,
     "input": [
      "print element[4]"
     ],
     "language": "python",
     "metadata": {},
     "outputs": [
      {
       "output_type": "stream",
       "stream": "stdout",
       "text": [
        "e\n"
       ]
      }
     ],
     "prompt_number": 39
    },
    {
     "cell_type": "code",
     "collapsed": false,
     "input": [
      "% matplotlib inline\n",
      "\n",
      "from matplotlib import pyplot as plt"
     ],
     "language": "python",
     "metadata": {},
     "outputs": [],
     "prompt_number": 40
    },
    {
     "cell_type": "code",
     "collapsed": false,
     "input": [
      "plt.imshow(data)\n",
      "plt.show()"
     ],
     "language": "python",
     "metadata": {},
     "outputs": [
      {
       "metadata": {},
       "output_type": "display_data",
       "png": "[encoded data removed]",
       "text": [
        "<matplotlib.figure.Figure at 0x106654c50>"
       ]
      }
     ],
     "prompt_number": 41
    },
    {
     "cell_type": "code",
     "collapsed": false,
     "input": [
      "ave_inflammation = data.mean(axis=0)\n",
      "\n",
      "plt.plot(ave_inflammation)\n",
      "\n",
      "plt.show()"
     ],
     "language": "python",
     "metadata": {},
     "outputs": [
      {
       "metadata": {},
       "output_type": "display_data",
       "png": "[encoded data removed]",
       "text": [
        "<matplotlib.figure.Figure at 0x1067dfd10>"
       ]
      }
     ],
     "prompt_number": 42
    },
    {
     "cell_type": "code",
     "collapsed": false,
     "input": [
      "print \"max inflammation per day\"\n",
      "plt.plot(data.max(axis = 0))\n",
      "plt.show()"
     ],
     "language": "python",
     "metadata": {},
     "outputs": [
      {
       "output_type": "stream",
       "stream": "stdout",
       "text": [
        "max inflammation per day\n"
       ]
      },
      {
       "metadata": {},
       "output_type": "display_data",
       "png": "[encoded data removed]",
       "text": [
        "<matplotlib.figure.Figure at 0x106d9c710>"
       ]
      }
     ],
     "prompt_number": 43
    },
    {
     "cell_type": "code",
     "collapsed": false,
     "input": [
      "print \"min inflammation per day\"\n",
      "plt.plot(data.min(axis = 0))\n",
      "plt.show()"
     ],
     "language": "python",
     "metadata": {},
     "outputs": [
      {
       "output_type": "stream",
       "stream": "stdout",
       "text": [
        "min inflammation per day\n"
       ]
      },
      {
       "metadata": {},
       "output_type": "display_data",
       "png": "[encoded data removed]",
       "text": [
        "<matplotlib.figure.Figure at 0x1067e7350>"
       ]
      }
     ],
     "prompt_number": 44
    },
    {
     "cell_type": "code",
     "collapsed": false,
     "input": [
      "plt.figure(figsize = (3.0, 10.0))\n",
      "\n",
      "plt.subplot(4, 1, 1)\n",
      "plt.ylabel(\"average\")\n",
      "plt.plot(data.mean(axis = 0))\n",
      "\n",
      "plt.subplot(4, 1, 2)\n",
      "plt.ylabel(\"max\")\n",
      "plt.plot(data.max(axis = 0))\n",
      "\n",
      "plt.subplot(4, 1, 3)\n",
      "plt.ylabel(\"min\")\n",
      "plt.plot(data.min(axis = 0))\n",
      "\n",
      "plt.subplot(4, 1, 4)\n",
      "plt.ylabel(\"standard deviation\")\n",
      "plt.plot(data.std(axis = 0))\n",
      "\n",
      "plt.tight_layout()\n",
      "\n",
      "plt.show()"
     ],
     "language": "python",
     "metadata": {},
     "outputs": [
      {
       "metadata": {},
       "output_type": "display_data",
       "png": "[encoded data removed]",
       "text": [
        "<matplotlib.figure.Figure at 0x1067b6fd0>"
       ]
      }
     ],
     "prompt_number": 53
    },
    {
     "cell_type": "code",
     "collapsed": false,
     "input": [
      "help(np.std)"
     ],
     "language": "python",
     "metadata": {},
     "outputs": [
      {
       "output_type": "stream",
       "stream": "stdout",
       "text": [
        "Help on function std in module numpy.core.fromnumeric:\n",
        "\n",
        "std(a, axis=None, dtype=None, out=None, ddof=0, keepdims=False)\n",
        "    Compute the standard deviation along the specified axis.\n",
        "    \n",
        "    Returns the standard deviation, a measure of the spread of a distribution,\n",
        "    of the array elements. The standard deviation is computed for the\n",
        "    flattened array by default, otherwise over the specified axis.\n",
        "    \n",
        "    Parameters\n",
        "    ----------\n",
        "    a : array_like\n",
        "        Calculate the standard deviation of these values.\n",
        "    axis : int, optional\n",
        "        Axis along which the standard deviation is computed. The default is\n",
        "        to compute the standard deviation of the flattened array.\n",
        "    dtype : dtype, optional\n",
        "        Type to use in computing the standard deviation. For arrays of\n",
        "        integer type the default is float64, for arrays of float types it is\n",
        "        the same as the array type.\n",
        "    out : ndarray, optional\n",
        "        Alternative output array in which to place the result. It must have\n",
        "        the same shape as the expected output but the type (of the calculated\n",
        "        values) will be cast if necessary.\n",
        "    ddof : int, optional\n",
        "        Means Delta Degrees of Freedom.  The divisor used in calculations\n",
        "        is ``N - ddof``, where ``N`` represents the number of elements.\n",
        "        By default `ddof` is zero.\n",
        "    keepdims : bool, optional\n",
        "        If this is set to True, the axes which are reduced are left\n",
        "        in the result as dimensions with size one. With this option,\n",
        "        the result will broadcast correctly against the original `arr`.\n",
        "    \n",
        "    Returns\n",
        "    -------\n",
        "    standard_deviation : ndarray, see dtype parameter above.\n",
        "        If `out` is None, return a new array containing the standard deviation,\n",
        "        otherwise return a reference to the output array.\n",
        "    \n",
        "    See Also\n",
        "    --------\n",
        "    var, mean, nanmean, nanstd, nanvar\n",
        "    numpy.doc.ufuncs : Section \"Output arguments\"\n",
        "    \n",
        "    Notes\n",
        "    -----\n",
        "    The standard deviation is the square root of the average of the squared\n",
        "    deviations from the mean, i.e., ``std = sqrt(mean(abs(x - x.mean())**2))``.\n",
        "    \n",
        "    The average squared deviation is normally calculated as\n",
        "    ``x.sum() / N``, where ``N = len(x)``.  If, however, `ddof` is specified,\n",
        "    the divisor ``N - ddof`` is used instead. In standard statistical\n",
        "    practice, ``ddof=1`` provides an unbiased estimator of the variance\n",
        "    of the infinite population. ``ddof=0`` provides a maximum likelihood\n",
        "    estimate of the variance for normally distributed variables. The\n",
        "    standard deviation computed in this function is the square root of\n",
        "    the estimated variance, so even with ``ddof=1``, it will not be an\n",
        "    unbiased estimate of the standard deviation per se.\n",
        "    \n",
        "    Note that, for complex numbers, `std` takes the absolute\n",
        "    value before squaring, so that the result is always real and nonnegative.\n",
        "    \n",
        "    For floating-point input, the *std* is computed using the same\n",
        "    precision the input has. Depending on the input data, this can cause\n",
        "    the results to be inaccurate, especially for float32 (see example below).\n",
        "    Specifying a higher-accuracy accumulator using the `dtype` keyword can\n",
        "    alleviate this issue.\n",
        "    \n",
        "    Examples\n",
        "    --------\n",
        "    >>> a = np.array([[1, 2], [3, 4]])\n",
        "    >>> np.std(a)\n",
        "    1.1180339887498949\n",
        "    >>> np.std(a, axis=0)\n",
        "    array([ 1.,  1.])\n",
        "    >>> np.std(a, axis=1)\n",
        "    array([ 0.5,  0.5])\n",
        "    \n",
        "    In single precision, std() can be inaccurate:\n",
        "    \n",
        "    >>> a = np.zeros((2,512*512), dtype=np.float32)\n",
        "    >>> a[0,:] = 1.0\n",
        "    >>> a[1,:] = 0.1\n",
        "    >>> np.std(a)\n",
        "    0.45172946707416706\n",
        "    \n",
        "    Computing the standard deviation in float64 is more accurate:\n",
        "    \n",
        "    >>> np.std(a, dtype=np.float64)\n",
        "    0.44999999925552653\n",
        "\n"
       ]
      }
     ],
     "prompt_number": 52
    },
    {
     "cell_type": "code",
     "collapsed": false,
     "input": [],
     "language": "python",
     "metadata": {},
     "outputs": []
    }
   ],
   "metadata": {}
  }
 ]
}